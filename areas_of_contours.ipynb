{
  "nbformat": 4,
  "nbformat_minor": 0,
  "metadata": {
    "colab": {
      "provenance": []
    },
    "kernelspec": {
      "name": "python3",
      "display_name": "Python 3"
    },
    "language_info": {
      "name": "python"
    }
  },
  "cells": [
    {
      "cell_type": "code",
      "execution_count": null,
      "metadata": {
        "id": "SzSbP_31QKGv"
      },
      "outputs": [],
      "source": [
        "import cv2"
      ]
    },
    {
      "cell_type": "code",
      "source": [
        "i=cv2.imread('chessboard.png')\n",
        "img=cv2.resize(i, (877,620))\n",
        "img_g=cv2.cvtColor(img, cv2.COLOR_BGR2GRAY)\n"
      ],
      "metadata": {
        "id": "IACoZXaXQU2j"
      },
      "execution_count": null,
      "outputs": []
    },
    {
      "cell_type": "code",
      "source": [
        "ret, thresh=cv2.threshold(img_g,127,255,cv2.THRESH_BINARY_INV)\n",
        "\n",
        "contours, hierarchy=cv2.findContours(thresh, cv2.RETR_TREE,cv2.CHAIN_APPROX_SIMPLE)\n"
      ],
      "metadata": {
        "id": "xXJW90PaQXjO"
      },
      "execution_count": null,
      "outputs": []
    },
    {
      "cell_type": "code",
      "source": [
        "for cnt in contours:\n",
        "    print(cv2.contourArea(cnt))\n",
        "\n",
        "for cnt in contours:\n",
        "    if (cv2.contourArea(cnt))<6000:\n",
        "       # cv2.drawContours(img,cnt,-1,(0,255,0),1)\n",
        "       x1,y1,w,h=cv2.boundingRect(cnt)\n",
        "\n",
        "       cv2.rectangle(img,(x1,y1),(x1+w,y1+h),(0,255,0),10)\n"
      ],
      "metadata": {
        "id": "WrqQ_ggGQa0w"
      },
      "execution_count": null,
      "outputs": []
    },
    {
      "cell_type": "code",
      "source": [
        "cv2.imshow('img',img)\n",
        "#cv2.imshow('img_gray',img_g)\n",
        "cv2.imshow('thresh',thresh)\n",
        "cv2.waitKey(0)"
      ],
      "metadata": {
        "id": "jHlvE_2jQdUJ"
      },
      "execution_count": null,
      "outputs": []
    }
  ]
}