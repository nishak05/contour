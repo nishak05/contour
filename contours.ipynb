{
  "nbformat": 4,
  "nbformat_minor": 0,
  "metadata": {
    "colab": {
      "provenance": []
    },
    "kernelspec": {
      "name": "python3",
      "display_name": "Python 3"
    },
    "language_info": {
      "name": "python"
    }
  },
  "cells": [
    {
      "cell_type": "code",
      "execution_count": null,
      "metadata": {
        "id": "ZJVnGLQ8Pvy1"
      },
      "outputs": [],
      "source": [
        "import cv2"
      ]
    },
    {
      "cell_type": "code",
      "source": [
        "i=cv2.imread('chessboard.png')"
      ],
      "metadata": {
        "id": "lpfS_FhdPyS6"
      },
      "execution_count": null,
      "outputs": []
    },
    {
      "cell_type": "code",
      "source": [
        "img=cv2.resize(i, (877,620))\n",
        "img_g=cv2.cvtColor(img, cv2.COLOR_BGR2GRAY)"
      ],
      "metadata": {
        "id": "mrevO40qP1Dl"
      },
      "execution_count": null,
      "outputs": []
    },
    {
      "cell_type": "code",
      "source": [
        "ret, thresh=cv2.threshold(img_g,127,255,cv2.THRESH_BINARY_INV)\n",
        "\n",
        "contours, hierarchy=cv2.findContours(thresh, cv2.RETR_TREE,cv2.CHAIN_APPROX_SIMPLE)\n"
      ],
      "metadata": {
        "id": "26gTJd6BP5xb"
      },
      "execution_count": null,
      "outputs": []
    },
    {
      "cell_type": "code",
      "source": [
        "cv2.imshow('img',img)\n",
        "cv2.imshow('img_gray',img_g)\n",
        "cv2.imshow('thresh',thresh)\n",
        "cv2.waitKey(0)"
      ],
      "metadata": {
        "id": "VM6lpKbuP8qv"
      },
      "execution_count": null,
      "outputs": []
    }
  ]
}